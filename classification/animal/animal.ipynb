{
 "cells": [
  {
   "cell_type": "markdown",
   "metadata": {},
   "source": [
    "# Released under MIT License\n",
    "\n",
    "Copyright (c) 2013 Mark Otto.\n",
    "\n",
    "Copyright (c) 2017 Andrew Fong.\n",
    "\n",
    "Permission is hereby granted, free of charge, to any person obtaining a copy of this software and associated documentation files (the \"Software\"), to deal in the Software without restriction, including without limitation the rights to use, copy, modify, merge, publish, distribute, sublicense, and/or sell copies of the Software, and to permit persons to whom the Software is furnished to do so, subject to the following conditions:\n",
    "\n",
    "The above copyright notice and this permission notice shall be included in all copies or substantial portions of the Software.\n",
    "\n",
    "THE SOFTWARE IS PROVIDED \"AS IS\", WITHOUT WARRANTY OF ANY KIND, EXPRESS OR IMPLIED, INCLUDING BUT NOT LIMITED TO THE WARRANTIES OF MERCHANTABILITY, FITNESS FOR A PARTICULAR PURPOSE AND NONINFRINGEMENT. IN NO EVENT SHALL THE AUTHORS OR COPYRIGHT HOLDERS BE LIABLE FOR ANY CLAIM, DAMAGES OR OTHER LIABILITY, WHETHER IN AN ACTION OF CONTRACT, TORT OR OTHERWISE, ARISING FROM, OUT OF OR IN CONNECTION WITH THE SOFTWARE OR THE USE OR OTHER DEALINGS IN THE SOFTWARE."
   ]
  },
  {
   "cell_type": "markdown",
   "metadata": {},
   "source": [
    "https://www.kaggle.com/datasets/borhanitrash/animal-image-classification-dataset"
   ]
  },
  {
   "cell_type": "markdown",
   "metadata": {},
   "source": [
    "# About Dataset\n",
    "\n",
    "***Dataset Summary***\n",
    "\n",
    "The Animal Image Classification Dataset is a comprehensive collection of images tailored for the development and evaluation of machine learning models in the field of computer vision. It contains 3,000 JPG images, carefully segmented into three classes representing common pets and wildlife: cats, dogs, and snakes.\n",
    "\n",
    "Dataset Contents\n",
    "cats/: A set of 1,000 JPG images of cats, showcasing a wide array of breeds, environments, and postures.\n",
    "\n",
    "dogs/: A diverse compilation of 1,000 dog images, capturing a multitude of breeds in various activities and settings.\n",
    "\n",
    "snakes/: An assortment of 1,000 images of snakes, depicting numerous species in both natural and controlled habitats. Image Details:\n",
    "\n",
    "Resolution: Each image maintains a uniform resolution of 256x256 pixels, providing clarity and consistency for model training.\n",
    "\n",
    "File Format: JPG Color Space: RGB\n",
    "\n",
    "Intended Applications\n",
    "This dataset is primed for use in developing and testing AI models specialized in multi-class animal recognition. It offers valuable resources for researchers and hobbyists in fields such as zoology, pet technology, and biodiversity conservation.\n",
    "\n",
    "Acknowledgements and Licensing\n",
    "This dataset is a collective effort of various photographers and organizations. All images are distributed with permissions for academic and non-commercial usage, provided that proper attribution is given to the original sources."
   ]
  },
  {
   "cell_type": "markdown",
   "metadata": {},
   "source": [
    "# Про набір даних\n",
    "\n",
    "***Короткий опис набору даних***\n",
    "\n",
    "Набір даних «Класифікація зображень тварин» - це повна колекція зображень, призначена для розробки та оцінки моделей машинного навчання в галузі комп'ютерного зору. Він містить 3 000 зображень у форматі JPG, ретельно сегментованих на три класи, що представляють найпоширеніших домашніх та диких тварин: котів, собак та змій.\n",
    "\n",
    "Зміст набору даних\n",
    "cats/: Набір з 1,000 JPG зображень котів, що демонструють широкий спектр порід, середовищ та поз.\n",
    "\n",
    "собаки/: Різноманітна добірка з 1,000 зображень собак, що демонструє безліч порід у різних видах діяльності та середовищах.\n",
    "\n",
    "змії/: Підбірка з 1 000 зображень змій, на яких зображені численні види як у природному, так і в контрольованому середовищі існування. Деталі зображення:\n",
    "\n",
    "Роздільна здатність: Кожне зображення має однакову роздільну здатність 256x256 пікселів, що забезпечує чіткість і послідовність для навчання моделі.\n",
    "\n",
    "Формат файлу: JPG Колірний простір: RGB\n",
    "\n",
    "Призначення\n",
    "Цей набір даних призначений для використання при розробці та тестуванні моделей штучного інтелекту, що спеціалізуються на розпізнаванні тварин різних класів. Він пропонує цінні ресурси для дослідників і аматорів у таких галузях, як зоологія, технології для домашніх тварин і збереження біорізноманіття.\n",
    "\n",
    "Подяки та ліцензування\n",
    "Цей набір даних є результатом колективних зусиль різних фотографів та організацій. Всі зображення розповсюджуються з дозволом на академічне та некомерційне використання за умови належного посил"
   ]
  },
  {
   "cell_type": "code",
   "execution_count": 18,
   "metadata": {},
   "outputs": [],
   "source": [
    "import os\n",
    "import pandas as pd\n",
    "import numpy as np\n",
    "\n",
    "from PIL import Image\n",
    "from PIL import ImageMath"
   ]
  },
  {
   "cell_type": "code",
   "execution_count": 20,
   "metadata": {},
   "outputs": [],
   "source": [
    "files_image_path = '../../classification/animal/data/'\n",
    "# Список категорій (назви папок)\n",
    "categories = [\"cats\", \"dogs\", \"snakes\"]\n",
    "\n",
    "# Створюємо список для зберігання даних\n",
    "image_list = []\n",
    "labels = []"
   ]
  },
  {
   "cell_type": "code",
   "execution_count": 21,
   "metadata": {},
   "outputs": [
    {
     "name": "stdout",
     "output_type": "stream",
     "text": [
      "                                               image label\n",
      "0  [[[64, 66, 87], [68, 70, 91], [73, 75, 96], [7...  cats\n",
      "1  [[[40, 61, 54], [41, 62, 55], [43, 64, 57], [4...  cats\n",
      "2  [[[94, 93, 91], [96, 95, 93], [99, 98, 96], [1...  cats\n",
      "3  [[[189, 187, 190], [190, 188, 191], [190, 188,...  cats\n",
      "4  [[[203, 186, 156], [207, 190, 160], [206, 189,...  cats\n"
     ]
    }
   ],
   "source": [
    "# Читаємо зображення з кожної категорії\n",
    "for category in categories:\n",
    "    folder_path = os.path.join(files_image_path, category)\n",
    "    image_files = [f for f in os.listdir(folder_path) if f.endswith('.jpg') or f.endswith('.png')]\n",
    "    \n",
    "    for image_file in image_files:\n",
    "        img = Image.open(os.path.join(folder_path, image_file))\n",
    "        img_array = np.array(img)  # Перетворюємо у масив\n",
    "        image_list.append(img_array)\n",
    "        labels.append(category)  # Додаємо мітку (категорію)\n",
    "\n",
    "# Створюємо DataFrame\n",
    "df = pd.DataFrame({\"image\": image_list, \"label\": labels})\n",
    "print(df.head())  # Перевіряємо структуру"
   ]
  },
  {
   "cell_type": "code",
   "execution_count": 22,
   "metadata": {},
   "outputs": [
    {
     "data": {
      "text/plain": [
       "Index(['image', 'label'], dtype='object')"
      ]
     },
     "execution_count": 22,
     "metadata": {},
     "output_type": "execute_result"
    }
   ],
   "source": [
    "df.columns"
   ]
  }
 ],
 "metadata": {
  "kernelspec": {
   "display_name": ".venv",
   "language": "python",
   "name": "python3"
  },
  "language_info": {
   "codemirror_mode": {
    "name": "ipython",
    "version": 3
   },
   "file_extension": ".py",
   "mimetype": "text/x-python",
   "name": "python",
   "nbconvert_exporter": "python",
   "pygments_lexer": "ipython3",
   "version": "3.12.2"
  }
 },
 "nbformat": 4,
 "nbformat_minor": 2
}
