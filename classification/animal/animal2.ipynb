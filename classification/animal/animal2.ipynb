{
 "cells": [
  {
   "cell_type": "markdown",
   "metadata": {},
   "source": [
    "# Released under MIT License\n",
    "\n",
    "Copyright (c) 2013 Mark Otto.\n",
    "\n",
    "Copyright (c) 2017 Andrew Fong.\n",
    "\n",
    "Permission is hereby granted, free of charge, to any person obtaining a copy of this software and associated documentation files (the \"Software\"), to deal in the Software without restriction, including without limitation the rights to use, copy, modify, merge, publish, distribute, sublicense, and/or sell copies of the Software, and to permit persons to whom the Software is furnished to do so, subject to the following conditions:\n",
    "\n",
    "The above copyright notice and this permission notice shall be included in all copies or substantial portions of the Software.\n",
    "\n",
    "THE SOFTWARE IS PROVIDED \"AS IS\", WITHOUT WARRANTY OF ANY KIND, EXPRESS OR IMPLIED, INCLUDING BUT NOT LIMITED TO THE WARRANTIES OF MERCHANTABILITY, FITNESS FOR A PARTICULAR PURPOSE AND NONINFRINGEMENT. IN NO EVENT SHALL THE AUTHORS OR COPYRIGHT HOLDERS BE LIABLE FOR ANY CLAIM, DAMAGES OR OTHER LIABILITY, WHETHER IN AN ACTION OF CONTRACT, TORT OR OTHERWISE, ARISING FROM, OUT OF OR IN CONNECTION WITH THE SOFTWARE OR THE USE OR OTHER DEALINGS IN THE SOFTWARE."
   ]
  },
  {
   "cell_type": "code",
   "execution_count": 5,
   "metadata": {},
   "outputs": [],
   "source": [
    "import os\n",
    "import pandas as pd\n",
    "import numpy as np\n",
    "import tensorflow as tf\n",
    "from sklearn.model_selection import train_test_split\n",
    "from keras.utils import load_img, img_to_array\n",
    "from keras.callbacks import EarlyStopping\n",
    "from keras.applications import MobileNetV2\n",
    "\n",
    "import matplotlib.pyplot as plt"
   ]
  },
  {
   "cell_type": "code",
   "execution_count": 6,
   "metadata": {},
   "outputs": [],
   "source": [
    "image_size = (256, 256)\n",
    "batch_size = 32\n",
    "data_dir = '../../classification/animal/data/'"
   ]
  },
  {
   "cell_type": "code",
   "execution_count": null,
   "metadata": {},
   "outputs": [
    {
     "name": "stdout",
     "output_type": "stream",
     "text": [
      "Found 3000 files belonging to 3 classes.\n"
     ]
    }
   ],
   "source": [
    "ds = tf.keras.utils.image_dataset_from_directory(\n",
    "    data_dir,\n",
    "    labels='inferred',\n",
    "    label_mode='int', \n",
    "    seed=123,\n",
    "    image_size=image_size,\n",
    "    batch_size=batch_size,\n",
    "    )"
   ]
  },
  {
   "cell_type": "code",
   "execution_count": 8,
   "metadata": {},
   "outputs": [],
   "source": [
    "import os\n",
    "import numpy as np\n",
    "from keras.preprocessing import image\n",
    "from keras.applications.efficientnet import preprocess_input\n",
    "from sklearn.preprocessing import LabelBinarizer\n",
    "from tqdm import tqdm"
   ]
  },
  {
   "cell_type": "code",
   "execution_count": 12,
   "metadata": {},
   "outputs": [
    {
     "name": "stderr",
     "output_type": "stream",
     "text": [
      "Loading cats: 100%|██████████| 1000/1000 [00:00<00:00, 1864.53it/s]\n",
      "Loading dogs: 100%|██████████| 1000/1000 [00:00<00:00, 1803.49it/s]\n",
      "Loading snakes: 100%|██████████| 1000/1000 [00:00<00:00, 1349.01it/s]\n"
     ]
    },
    {
     "name": "stdout",
     "output_type": "stream",
     "text": [
      "X shape: (3000, 256, 256, 3)\n",
      "y shape: (3000, 3)\n",
      "['cats' 'dogs' 'snakes']\n"
     ]
    }
   ],
   "source": [
    "X = []\n",
    "y = []\n",
    "\n",
    "class_names = sorted(os.listdir(data_dir))  \n",
    "\n",
    "for label in class_names:\n",
    "    class_dir = os.path.join(data_dir, label)\n",
    "    if not os.path.isdir(class_dir):\n",
    "        continue\n",
    "    for file in tqdm(os.listdir(class_dir), desc=f\"Loading {label}\"):\n",
    "        img_path = os.path.join(class_dir, file)\n",
    "        try:\n",
    "            img = image.load_img(img_path, target_size=image_size)\n",
    "            img_array = image.img_to_array(img)\n",
    "            img_array = preprocess_input(img_array)  \n",
    "            X.append(img_array)\n",
    "            y.append(label)\n",
    "        except Exception as e:\n",
    "            print(f'Error: {img_path} failed to load -> {e}')\n",
    "X_np = np.array(X, dtype='float32')\n",
    "y_np_raw = np.array(y)\n",
    "\n",
    "encoder = LabelBinarizer()\n",
    "y_np = encoder.fit_transform(y_np_raw)\n",
    "\n",
    "print(\"X shape:\", X_np.shape)\n",
    "print(\"y shape:\", y_np.shape)\n",
    "print(encoder.classes_)"
   ]
  },
  {
   "cell_type": "code",
   "execution_count": null,
   "metadata": {},
   "outputs": [],
   "source": [
    "0"
   ]
  }
 ],
 "metadata": {
  "kernelspec": {
   "display_name": ".venv",
   "language": "python",
   "name": "python3"
  },
  "language_info": {
   "codemirror_mode": {
    "name": "ipython",
    "version": 3
   },
   "file_extension": ".py",
   "mimetype": "text/x-python",
   "name": "python",
   "nbconvert_exporter": "python",
   "pygments_lexer": "ipython3",
   "version": "3.12.2"
  }
 },
 "nbformat": 4,
 "nbformat_minor": 2
}
