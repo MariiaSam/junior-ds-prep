{
 "cells": [
  {
   "cell_type": "code",
   "execution_count": 2,
   "id": "94377aa2",
   "metadata": {},
   "outputs": [],
   "source": [
    "import pandas as pd\n",
    "import numpy as np"
   ]
  },
  {
   "cell_type": "code",
   "execution_count": 3,
   "id": "a12dea3d",
   "metadata": {},
   "outputs": [
    {
     "data": {
      "text/plain": [
       "<bound method NDFrame.head of             Місто  Кімнат Загальна_площа       Ціна\n",
       "0         Вінниця       3            120  1875000.0\n",
       "1         Вінниця       3             66   975000.0\n",
       "2         Вінниця       2             66  1375000.0\n",
       "3         Вінниця       2             44   637500.0\n",
       "4         Вінниця       3             63   835000.0\n",
       "..            ...     ...            ...        ...\n",
       "834  Хмельницький       1             52   330000.0\n",
       "835  Хмельницький       1             41   325000.0\n",
       "836  Хмельницький       1             47   375000.0\n",
       "837  Хмельницький       2             53   387500.0\n",
       "838  Хмельницький       2             60   522500.0\n",
       "\n",
       "[839 rows x 4 columns]>"
      ]
     },
     "execution_count": 3,
     "metadata": {},
     "output_type": "execute_result"
    }
   ],
   "source": [
    "path_file = 'flats.csv'\n",
    "df_data = pd.read_csv(path_file)\n",
    "\n",
    "df_data.head"
   ]
  }
 ],
 "metadata": {
  "kernelspec": {
   "display_name": ".venv",
   "language": "python",
   "name": "python3"
  },
  "language_info": {
   "codemirror_mode": {
    "name": "ipython",
    "version": 3
   },
   "file_extension": ".py",
   "mimetype": "text/x-python",
   "name": "python",
   "nbconvert_exporter": "python",
   "pygments_lexer": "ipython3",
   "version": "3.12.2"
  }
 },
 "nbformat": 4,
 "nbformat_minor": 5
}
