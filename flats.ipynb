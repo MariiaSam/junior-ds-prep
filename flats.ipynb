{
 "cells": [
  {
   "cell_type": "code",
   "execution_count": 1,
   "id": "94377aa2",
   "metadata": {},
   "outputs": [],
   "source": [
    "import pandas as pd\n",
    "import numpy as np"
   ]
  },
  {
   "cell_type": "markdown",
   "id": "530e62af",
   "metadata": {},
   "source": [
    "1. Скільки змінних у наборі даних flats?"
   ]
  },
  {
   "cell_type": "markdown",
   "id": "b234f228",
   "metadata": {},
   "source": [
    "3. Чи всі з них дійсно є містами?"
   ]
  },
  {
   "cell_type": "code",
   "execution_count": 2,
   "id": "a12dea3d",
   "metadata": {},
   "outputs": [
    {
     "data": {
      "text/plain": [
       "<bound method NDFrame.head of             Місто  Кімнат Загальна_площа       Ціна\n",
       "0         Вінниця       3            120  1875000.0\n",
       "1         Вінниця       3             66   975000.0\n",
       "2         Вінниця       2             66  1375000.0\n",
       "3         Вінниця       2             44   637500.0\n",
       "4         Вінниця       3             63   835000.0\n",
       "..            ...     ...            ...        ...\n",
       "834  Хмельницький       1             52   330000.0\n",
       "835  Хмельницький       1             41   325000.0\n",
       "836  Хмельницький       1             47   375000.0\n",
       "837  Хмельницький       2             53   387500.0\n",
       "838  Хмельницький       2             60   522500.0\n",
       "\n",
       "[839 rows x 4 columns]>"
      ]
     },
     "execution_count": 2,
     "metadata": {},
     "output_type": "execute_result"
    }
   ],
   "source": [
    "path_file = 'flats.csv'\n",
    "df_data = pd.read_csv(path_file)\n",
    "\n",
    "df_data.head"
   ]
  },
  {
   "cell_type": "code",
   "execution_count": 3,
   "id": "4570b405",
   "metadata": {},
   "outputs": [
    {
     "name": "stdout",
     "output_type": "stream",
     "text": [
      "<class 'pandas.core.frame.DataFrame'>\n",
      "RangeIndex: 839 entries, 0 to 838\n",
      "Data columns (total 4 columns):\n",
      " #   Column          Non-Null Count  Dtype  \n",
      "---  ------          --------------  -----  \n",
      " 0   Місто           839 non-null    object \n",
      " 1   Кімнат          839 non-null    int64  \n",
      " 2   Загальна_площа  839 non-null    object \n",
      " 3   Ціна            839 non-null    float64\n",
      "dtypes: float64(1), int64(1), object(2)\n",
      "memory usage: 26.3+ KB\n"
     ]
    }
   ],
   "source": [
    "df_data.info()"
   ]
  },
  {
   "cell_type": "markdown",
   "id": "f6e8428f",
   "metadata": {},
   "source": [
    "1. Скільки змінних у наборі даних flats?"
   ]
  },
  {
   "cell_type": "code",
   "execution_count": 4,
   "id": "9a6da59d",
   "metadata": {},
   "outputs": [
    {
     "data": {
      "text/plain": [
       "Index(['Місто', 'Кімнат', 'Загальна_площа', 'Ціна'], dtype='object')"
      ]
     },
     "execution_count": 4,
     "metadata": {},
     "output_type": "execute_result"
    }
   ],
   "source": [
    "df_data.columns"
   ]
  },
  {
   "cell_type": "code",
   "execution_count": 5,
   "id": "8969ceb4",
   "metadata": {},
   "outputs": [
    {
     "data": {
      "text/html": [
       "<div>\n",
       "<style scoped>\n",
       "    .dataframe tbody tr th:only-of-type {\n",
       "        vertical-align: middle;\n",
       "    }\n",
       "\n",
       "    .dataframe tbody tr th {\n",
       "        vertical-align: top;\n",
       "    }\n",
       "\n",
       "    .dataframe thead th {\n",
       "        text-align: right;\n",
       "    }\n",
       "</style>\n",
       "<table border=\"1\" class=\"dataframe\">\n",
       "  <thead>\n",
       "    <tr style=\"text-align: right;\">\n",
       "      <th></th>\n",
       "      <th>Кімнат</th>\n",
       "      <th>Ціна</th>\n",
       "    </tr>\n",
       "  </thead>\n",
       "  <tbody>\n",
       "    <tr>\n",
       "      <th>count</th>\n",
       "      <td>839.000000</td>\n",
       "      <td>8.390000e+02</td>\n",
       "    </tr>\n",
       "    <tr>\n",
       "      <th>mean</th>\n",
       "      <td>2.045292</td>\n",
       "      <td>1.042710e+06</td>\n",
       "    </tr>\n",
       "    <tr>\n",
       "      <th>std</th>\n",
       "      <td>0.941156</td>\n",
       "      <td>1.057237e+06</td>\n",
       "    </tr>\n",
       "    <tr>\n",
       "      <th>min</th>\n",
       "      <td>1.000000</td>\n",
       "      <td>1.020000e+04</td>\n",
       "    </tr>\n",
       "    <tr>\n",
       "      <th>25%</th>\n",
       "      <td>1.000000</td>\n",
       "      <td>5.375000e+05</td>\n",
       "    </tr>\n",
       "    <tr>\n",
       "      <th>50%</th>\n",
       "      <td>2.000000</td>\n",
       "      <td>7.750000e+05</td>\n",
       "    </tr>\n",
       "    <tr>\n",
       "      <th>75%</th>\n",
       "      <td>3.000000</td>\n",
       "      <td>1.200000e+06</td>\n",
       "    </tr>\n",
       "    <tr>\n",
       "      <th>max</th>\n",
       "      <td>6.000000</td>\n",
       "      <td>1.225000e+07</td>\n",
       "    </tr>\n",
       "  </tbody>\n",
       "</table>\n",
       "</div>"
      ],
      "text/plain": [
       "           Кімнат          Ціна\n",
       "count  839.000000  8.390000e+02\n",
       "mean     2.045292  1.042710e+06\n",
       "std      0.941156  1.057237e+06\n",
       "min      1.000000  1.020000e+04\n",
       "25%      1.000000  5.375000e+05\n",
       "50%      2.000000  7.750000e+05\n",
       "75%      3.000000  1.200000e+06\n",
       "max      6.000000  1.225000e+07"
      ]
     },
     "execution_count": 5,
     "metadata": {},
     "output_type": "execute_result"
    }
   ],
   "source": [
    "df_data.describe()"
   ]
  },
  {
   "cell_type": "markdown",
   "id": "7ae210f8",
   "metadata": {},
   "source": [
    "2. Яка кількість міст у наборі даних flats? Підказка: мається на увазі кількість унікальних значень до очищення даних."
   ]
  },
  {
   "cell_type": "code",
   "execution_count": 6,
   "id": "03e4ff01",
   "metadata": {},
   "outputs": [
    {
     "data": {
      "text/plain": [
       "array(['Вінниця', 'Дніпропетровськ', 'Запоріжжя', 'Івано-Франківськ',\n",
       "       'Києво-Святошинський', 'Київ', 'Львів', 'Миколаїв', 'Одеса',\n",
       "       'Рівне', 'Тернопіль', 'Харків', 'Хмельницький'], dtype=object)"
      ]
     },
     "execution_count": 6,
     "metadata": {},
     "output_type": "execute_result"
    }
   ],
   "source": [
    "unique_city = df_data['Місто'].unique()\n",
    "unique_city"
   ]
  },
  {
   "cell_type": "code",
   "execution_count": 7,
   "id": "526313ef",
   "metadata": {},
   "outputs": [
    {
     "name": "stdout",
     "output_type": "stream",
     "text": [
      "13\n"
     ]
    }
   ],
   "source": [
    "print(len(unique_city))"
   ]
  },
  {
   "cell_type": "code",
   "execution_count": 8,
   "id": "3fde2b9a",
   "metadata": {},
   "outputs": [
    {
     "data": {
      "text/plain": [
       "(839, 4)"
      ]
     },
     "execution_count": 8,
     "metadata": {},
     "output_type": "execute_result"
    }
   ],
   "source": [
    "df_data.shape"
   ]
  },
  {
   "cell_type": "markdown",
   "id": "ad40437d",
   "metadata": {},
   "source": [
    "4. Яка кількість трикімнатних квартир продається в місті Одеса?"
   ]
  },
  {
   "cell_type": "code",
   "execution_count": 9,
   "id": "defde3a5",
   "metadata": {},
   "outputs": [
    {
     "data": {
      "text/html": [
       "<div>\n",
       "<style scoped>\n",
       "    .dataframe tbody tr th:only-of-type {\n",
       "        vertical-align: middle;\n",
       "    }\n",
       "\n",
       "    .dataframe tbody tr th {\n",
       "        vertical-align: top;\n",
       "    }\n",
       "\n",
       "    .dataframe thead th {\n",
       "        text-align: right;\n",
       "    }\n",
       "</style>\n",
       "<table border=\"1\" class=\"dataframe\">\n",
       "  <thead>\n",
       "    <tr style=\"text-align: right;\">\n",
       "      <th></th>\n",
       "      <th>Місто</th>\n",
       "      <th>Кімнат</th>\n",
       "      <th>Загальна_площа</th>\n",
       "      <th>Ціна</th>\n",
       "    </tr>\n",
       "  </thead>\n",
       "  <tbody>\n",
       "    <tr>\n",
       "      <th>590</th>\n",
       "      <td>Одеса</td>\n",
       "      <td>3</td>\n",
       "      <td>68,2</td>\n",
       "      <td>1500000.0</td>\n",
       "    </tr>\n",
       "    <tr>\n",
       "      <th>591</th>\n",
       "      <td>Одеса</td>\n",
       "      <td>3</td>\n",
       "      <td>128</td>\n",
       "      <td>5750000.0</td>\n",
       "    </tr>\n",
       "    <tr>\n",
       "      <th>603</th>\n",
       "      <td>Одеса</td>\n",
       "      <td>3</td>\n",
       "      <td>130,6</td>\n",
       "      <td>2398750.0</td>\n",
       "    </tr>\n",
       "    <tr>\n",
       "      <th>607</th>\n",
       "      <td>Одеса</td>\n",
       "      <td>3</td>\n",
       "      <td>143</td>\n",
       "      <td>2875000.0</td>\n",
       "    </tr>\n",
       "    <tr>\n",
       "      <th>608</th>\n",
       "      <td>Одеса</td>\n",
       "      <td>3</td>\n",
       "      <td>125,5</td>\n",
       "      <td>47500.0</td>\n",
       "    </tr>\n",
       "    <tr>\n",
       "      <th>611</th>\n",
       "      <td>Одеса</td>\n",
       "      <td>3</td>\n",
       "      <td>139,1</td>\n",
       "      <td>43750.0</td>\n",
       "    </tr>\n",
       "    <tr>\n",
       "      <th>612</th>\n",
       "      <td>Одеса</td>\n",
       "      <td>3</td>\n",
       "      <td>123,7</td>\n",
       "      <td>41250.0</td>\n",
       "    </tr>\n",
       "    <tr>\n",
       "      <th>613</th>\n",
       "      <td>Одеса</td>\n",
       "      <td>3</td>\n",
       "      <td>124</td>\n",
       "      <td>52500.0</td>\n",
       "    </tr>\n",
       "    <tr>\n",
       "      <th>617</th>\n",
       "      <td>Одеса</td>\n",
       "      <td>3</td>\n",
       "      <td>123,7</td>\n",
       "      <td>41250.0</td>\n",
       "    </tr>\n",
       "    <tr>\n",
       "      <th>618</th>\n",
       "      <td>Одеса</td>\n",
       "      <td>3</td>\n",
       "      <td>78</td>\n",
       "      <td>1612500.0</td>\n",
       "    </tr>\n",
       "    <tr>\n",
       "      <th>624</th>\n",
       "      <td>Одеса</td>\n",
       "      <td>3</td>\n",
       "      <td>96</td>\n",
       "      <td>1460750.0</td>\n",
       "    </tr>\n",
       "  </tbody>\n",
       "</table>\n",
       "</div>"
      ],
      "text/plain": [
       "     Місто  Кімнат Загальна_площа       Ціна\n",
       "590  Одеса       3           68,2  1500000.0\n",
       "591  Одеса       3            128  5750000.0\n",
       "603  Одеса       3          130,6  2398750.0\n",
       "607  Одеса       3            143  2875000.0\n",
       "608  Одеса       3          125,5    47500.0\n",
       "611  Одеса       3          139,1    43750.0\n",
       "612  Одеса       3          123,7    41250.0\n",
       "613  Одеса       3            124    52500.0\n",
       "617  Одеса       3          123,7    41250.0\n",
       "618  Одеса       3             78  1612500.0\n",
       "624  Одеса       3             96  1460750.0"
      ]
     },
     "execution_count": 9,
     "metadata": {},
     "output_type": "execute_result"
    }
   ],
   "source": [
    "df_odesa = df_data[(df_data[\"Місто\"] == 'Одеса') & (df_data[\"Кімнат\"] == 3)]\n",
    "df_odesa "
   ]
  },
  {
   "cell_type": "code",
   "execution_count": 10,
   "id": "dec04fe2",
   "metadata": {},
   "outputs": [
    {
     "name": "stdout",
     "output_type": "stream",
     "text": [
      "11\n"
     ]
    }
   ],
   "source": [
    "print(len(df_odesa))"
   ]
  },
  {
   "cell_type": "markdown",
   "id": "e4c512b4",
   "metadata": {},
   "source": [
    "5. Яка медіана площі однокімнатної квартири в місті Львів? Підказка: використовуйте функцію median."
   ]
  },
  {
   "cell_type": "code",
   "execution_count": 11,
   "id": "9101c0ff",
   "metadata": {},
   "outputs": [
    {
     "name": "stdout",
     "output_type": "stream",
     "text": [
      "Медіана площі однокімнатних квартир у Львові: 43.00 м²\n"
     ]
    }
   ],
   "source": [
    "df_data['Загальна_площа'] = df_data['Загальна_площа'].str.replace(',', '.').astype(float)\n",
    "\n",
    "df_lviv_1room = df_data[(df_data[\"Місто\"] == 'Львів') & (df_data[\"Кімнат\"] == 1)]\n",
    "\n",
    "median_area = df_lviv_1room['Загальна_площа'].median()\n",
    "\n",
    "print(f\"Медіана площі однокімнатних квартир у Львові: {median_area:.2f} м²\")"
   ]
  },
  {
   "cell_type": "markdown",
   "id": "39bc4849",
   "metadata": {},
   "source": [
    "1/ Знайдіть кількість вимірів датафрейму flats\n",
    "2/ Відобразіть перші шість рядків, перші п'ятнадцять рядків, останні шість рядків\n",
    "3/ Відобразіть імена датафрейму\n",
    "4/ Побудуйте коробчату діаграму для візулізації розподілу цін в залежності від кількості кімнат\n",
    "5 Побудуйте графік розсіювання, який відображатиме залежність ціни від загальної площі\n",
    "Побудуйте гістограму для оцінки розподілу ціни квартир"
   ]
  },
  {
   "cell_type": "markdown",
   "id": "f7f12472",
   "metadata": {},
   "source": [
    "Знайдіть кількість вимірів датафрейму flats"
   ]
  },
  {
   "cell_type": "code",
   "execution_count": 12,
   "id": "cea70c6d",
   "metadata": {},
   "outputs": [
    {
     "data": {
      "text/plain": [
       "2"
      ]
     },
     "execution_count": 12,
     "metadata": {},
     "output_type": "execute_result"
    }
   ],
   "source": [
    "df_data.ndim"
   ]
  },
  {
   "cell_type": "markdown",
   "id": "564e16dc",
   "metadata": {},
   "source": [
    "2/ Відобразіть перші шість рядків, перші п'ятнадцять рядків, останні шість рядків"
   ]
  },
  {
   "cell_type": "code",
   "execution_count": 13,
   "id": "4dc29869",
   "metadata": {},
   "outputs": [
    {
     "data": {
      "text/html": [
       "<div>\n",
       "<style scoped>\n",
       "    .dataframe tbody tr th:only-of-type {\n",
       "        vertical-align: middle;\n",
       "    }\n",
       "\n",
       "    .dataframe tbody tr th {\n",
       "        vertical-align: top;\n",
       "    }\n",
       "\n",
       "    .dataframe thead th {\n",
       "        text-align: right;\n",
       "    }\n",
       "</style>\n",
       "<table border=\"1\" class=\"dataframe\">\n",
       "  <thead>\n",
       "    <tr style=\"text-align: right;\">\n",
       "      <th></th>\n",
       "      <th>Місто</th>\n",
       "      <th>Кімнат</th>\n",
       "      <th>Загальна_площа</th>\n",
       "      <th>Ціна</th>\n",
       "    </tr>\n",
       "  </thead>\n",
       "  <tbody>\n",
       "    <tr>\n",
       "      <th>0</th>\n",
       "      <td>Вінниця</td>\n",
       "      <td>3</td>\n",
       "      <td>120.0</td>\n",
       "      <td>1875000.0</td>\n",
       "    </tr>\n",
       "    <tr>\n",
       "      <th>1</th>\n",
       "      <td>Вінниця</td>\n",
       "      <td>3</td>\n",
       "      <td>66.0</td>\n",
       "      <td>975000.0</td>\n",
       "    </tr>\n",
       "    <tr>\n",
       "      <th>2</th>\n",
       "      <td>Вінниця</td>\n",
       "      <td>2</td>\n",
       "      <td>66.0</td>\n",
       "      <td>1375000.0</td>\n",
       "    </tr>\n",
       "    <tr>\n",
       "      <th>3</th>\n",
       "      <td>Вінниця</td>\n",
       "      <td>2</td>\n",
       "      <td>44.0</td>\n",
       "      <td>637500.0</td>\n",
       "    </tr>\n",
       "    <tr>\n",
       "      <th>4</th>\n",
       "      <td>Вінниця</td>\n",
       "      <td>3</td>\n",
       "      <td>63.0</td>\n",
       "      <td>835000.0</td>\n",
       "    </tr>\n",
       "    <tr>\n",
       "      <th>5</th>\n",
       "      <td>Вінниця</td>\n",
       "      <td>1</td>\n",
       "      <td>31.0</td>\n",
       "      <td>562500.0</td>\n",
       "    </tr>\n",
       "  </tbody>\n",
       "</table>\n",
       "</div>"
      ],
      "text/plain": [
       "     Місто  Кімнат  Загальна_площа       Ціна\n",
       "0  Вінниця       3           120.0  1875000.0\n",
       "1  Вінниця       3            66.0   975000.0\n",
       "2  Вінниця       2            66.0  1375000.0\n",
       "3  Вінниця       2            44.0   637500.0\n",
       "4  Вінниця       3            63.0   835000.0\n",
       "5  Вінниця       1            31.0   562500.0"
      ]
     },
     "execution_count": 13,
     "metadata": {},
     "output_type": "execute_result"
    }
   ],
   "source": [
    "df_data.head(6)"
   ]
  },
  {
   "cell_type": "code",
   "execution_count": 14,
   "id": "2e61ecd5",
   "metadata": {},
   "outputs": [
    {
     "data": {
      "text/html": [
       "<div>\n",
       "<style scoped>\n",
       "    .dataframe tbody tr th:only-of-type {\n",
       "        vertical-align: middle;\n",
       "    }\n",
       "\n",
       "    .dataframe tbody tr th {\n",
       "        vertical-align: top;\n",
       "    }\n",
       "\n",
       "    .dataframe thead th {\n",
       "        text-align: right;\n",
       "    }\n",
       "</style>\n",
       "<table border=\"1\" class=\"dataframe\">\n",
       "  <thead>\n",
       "    <tr style=\"text-align: right;\">\n",
       "      <th></th>\n",
       "      <th>Місто</th>\n",
       "      <th>Кімнат</th>\n",
       "      <th>Загальна_площа</th>\n",
       "      <th>Ціна</th>\n",
       "    </tr>\n",
       "  </thead>\n",
       "  <tbody>\n",
       "    <tr>\n",
       "      <th>0</th>\n",
       "      <td>Вінниця</td>\n",
       "      <td>3</td>\n",
       "      <td>120.0</td>\n",
       "      <td>1875000.0</td>\n",
       "    </tr>\n",
       "    <tr>\n",
       "      <th>1</th>\n",
       "      <td>Вінниця</td>\n",
       "      <td>3</td>\n",
       "      <td>66.0</td>\n",
       "      <td>975000.0</td>\n",
       "    </tr>\n",
       "    <tr>\n",
       "      <th>2</th>\n",
       "      <td>Вінниця</td>\n",
       "      <td>2</td>\n",
       "      <td>66.0</td>\n",
       "      <td>1375000.0</td>\n",
       "    </tr>\n",
       "    <tr>\n",
       "      <th>3</th>\n",
       "      <td>Вінниця</td>\n",
       "      <td>2</td>\n",
       "      <td>44.0</td>\n",
       "      <td>637500.0</td>\n",
       "    </tr>\n",
       "    <tr>\n",
       "      <th>4</th>\n",
       "      <td>Вінниця</td>\n",
       "      <td>3</td>\n",
       "      <td>63.0</td>\n",
       "      <td>835000.0</td>\n",
       "    </tr>\n",
       "    <tr>\n",
       "      <th>5</th>\n",
       "      <td>Вінниця</td>\n",
       "      <td>1</td>\n",
       "      <td>31.0</td>\n",
       "      <td>562500.0</td>\n",
       "    </tr>\n",
       "    <tr>\n",
       "      <th>6</th>\n",
       "      <td>Вінниця</td>\n",
       "      <td>3</td>\n",
       "      <td>46.0</td>\n",
       "      <td>1150000.0</td>\n",
       "    </tr>\n",
       "    <tr>\n",
       "      <th>7</th>\n",
       "      <td>Вінниця</td>\n",
       "      <td>3</td>\n",
       "      <td>64.0</td>\n",
       "      <td>800000.0</td>\n",
       "    </tr>\n",
       "    <tr>\n",
       "      <th>8</th>\n",
       "      <td>Вінниця</td>\n",
       "      <td>1</td>\n",
       "      <td>35.0</td>\n",
       "      <td>424975.0</td>\n",
       "    </tr>\n",
       "    <tr>\n",
       "      <th>9</th>\n",
       "      <td>Вінниця</td>\n",
       "      <td>6</td>\n",
       "      <td>200.0</td>\n",
       "      <td>12500.0</td>\n",
       "    </tr>\n",
       "    <tr>\n",
       "      <th>10</th>\n",
       "      <td>Вінниця</td>\n",
       "      <td>2</td>\n",
       "      <td>46.0</td>\n",
       "      <td>500000.0</td>\n",
       "    </tr>\n",
       "    <tr>\n",
       "      <th>11</th>\n",
       "      <td>Вінниця</td>\n",
       "      <td>1</td>\n",
       "      <td>50.0</td>\n",
       "      <td>999975.0</td>\n",
       "    </tr>\n",
       "    <tr>\n",
       "      <th>12</th>\n",
       "      <td>Вінниця</td>\n",
       "      <td>1</td>\n",
       "      <td>38.0</td>\n",
       "      <td>512500.0</td>\n",
       "    </tr>\n",
       "    <tr>\n",
       "      <th>13</th>\n",
       "      <td>Вінниця</td>\n",
       "      <td>2</td>\n",
       "      <td>68.0</td>\n",
       "      <td>1000000.0</td>\n",
       "    </tr>\n",
       "    <tr>\n",
       "      <th>14</th>\n",
       "      <td>Вінниця</td>\n",
       "      <td>3</td>\n",
       "      <td>98.0</td>\n",
       "      <td>2575000.0</td>\n",
       "    </tr>\n",
       "  </tbody>\n",
       "</table>\n",
       "</div>"
      ],
      "text/plain": [
       "      Місто  Кімнат  Загальна_площа       Ціна\n",
       "0   Вінниця       3           120.0  1875000.0\n",
       "1   Вінниця       3            66.0   975000.0\n",
       "2   Вінниця       2            66.0  1375000.0\n",
       "3   Вінниця       2            44.0   637500.0\n",
       "4   Вінниця       3            63.0   835000.0\n",
       "5   Вінниця       1            31.0   562500.0\n",
       "6   Вінниця       3            46.0  1150000.0\n",
       "7   Вінниця       3            64.0   800000.0\n",
       "8   Вінниця       1            35.0   424975.0\n",
       "9   Вінниця       6           200.0    12500.0\n",
       "10  Вінниця       2            46.0   500000.0\n",
       "11  Вінниця       1            50.0   999975.0\n",
       "12  Вінниця       1            38.0   512500.0\n",
       "13  Вінниця       2            68.0  1000000.0\n",
       "14  Вінниця       3            98.0  2575000.0"
      ]
     },
     "execution_count": 14,
     "metadata": {},
     "output_type": "execute_result"
    }
   ],
   "source": [
    "df_data.head(15)"
   ]
  },
  {
   "cell_type": "code",
   "execution_count": 15,
   "id": "cccc9f97",
   "metadata": {},
   "outputs": [
    {
     "data": {
      "text/html": [
       "<div>\n",
       "<style scoped>\n",
       "    .dataframe tbody tr th:only-of-type {\n",
       "        vertical-align: middle;\n",
       "    }\n",
       "\n",
       "    .dataframe tbody tr th {\n",
       "        vertical-align: top;\n",
       "    }\n",
       "\n",
       "    .dataframe thead th {\n",
       "        text-align: right;\n",
       "    }\n",
       "</style>\n",
       "<table border=\"1\" class=\"dataframe\">\n",
       "  <thead>\n",
       "    <tr style=\"text-align: right;\">\n",
       "      <th></th>\n",
       "      <th>Місто</th>\n",
       "      <th>Кімнат</th>\n",
       "      <th>Загальна_площа</th>\n",
       "      <th>Ціна</th>\n",
       "    </tr>\n",
       "  </thead>\n",
       "  <tbody>\n",
       "    <tr>\n",
       "      <th>824</th>\n",
       "      <td>Хмельницький</td>\n",
       "      <td>2</td>\n",
       "      <td>80.00</td>\n",
       "      <td>1125000.0</td>\n",
       "    </tr>\n",
       "    <tr>\n",
       "      <th>825</th>\n",
       "      <td>Хмельницький</td>\n",
       "      <td>1</td>\n",
       "      <td>37.00</td>\n",
       "      <td>387500.0</td>\n",
       "    </tr>\n",
       "    <tr>\n",
       "      <th>826</th>\n",
       "      <td>Хмельницький</td>\n",
       "      <td>1</td>\n",
       "      <td>50.00</td>\n",
       "      <td>375000.0</td>\n",
       "    </tr>\n",
       "    <tr>\n",
       "      <th>827</th>\n",
       "      <td>Хмельницький</td>\n",
       "      <td>1</td>\n",
       "      <td>43.00</td>\n",
       "      <td>337500.0</td>\n",
       "    </tr>\n",
       "    <tr>\n",
       "      <th>828</th>\n",
       "      <td>Хмельницький</td>\n",
       "      <td>1</td>\n",
       "      <td>36.00</td>\n",
       "      <td>220000.0</td>\n",
       "    </tr>\n",
       "    <tr>\n",
       "      <th>829</th>\n",
       "      <td>Хмельницький</td>\n",
       "      <td>1</td>\n",
       "      <td>42.00</td>\n",
       "      <td>264600.0</td>\n",
       "    </tr>\n",
       "    <tr>\n",
       "      <th>830</th>\n",
       "      <td>Хмельницький</td>\n",
       "      <td>1</td>\n",
       "      <td>42.00</td>\n",
       "      <td>575000.0</td>\n",
       "    </tr>\n",
       "    <tr>\n",
       "      <th>831</th>\n",
       "      <td>Хмельницький</td>\n",
       "      <td>3</td>\n",
       "      <td>72.00</td>\n",
       "      <td>925000.0</td>\n",
       "    </tr>\n",
       "    <tr>\n",
       "      <th>832</th>\n",
       "      <td>Хмельницький</td>\n",
       "      <td>1</td>\n",
       "      <td>41.00</td>\n",
       "      <td>275000.0</td>\n",
       "    </tr>\n",
       "    <tr>\n",
       "      <th>833</th>\n",
       "      <td>Хмельницький</td>\n",
       "      <td>1</td>\n",
       "      <td>35.58</td>\n",
       "      <td>212500.0</td>\n",
       "    </tr>\n",
       "    <tr>\n",
       "      <th>834</th>\n",
       "      <td>Хмельницький</td>\n",
       "      <td>1</td>\n",
       "      <td>52.00</td>\n",
       "      <td>330000.0</td>\n",
       "    </tr>\n",
       "    <tr>\n",
       "      <th>835</th>\n",
       "      <td>Хмельницький</td>\n",
       "      <td>1</td>\n",
       "      <td>41.00</td>\n",
       "      <td>325000.0</td>\n",
       "    </tr>\n",
       "    <tr>\n",
       "      <th>836</th>\n",
       "      <td>Хмельницький</td>\n",
       "      <td>1</td>\n",
       "      <td>47.00</td>\n",
       "      <td>375000.0</td>\n",
       "    </tr>\n",
       "    <tr>\n",
       "      <th>837</th>\n",
       "      <td>Хмельницький</td>\n",
       "      <td>2</td>\n",
       "      <td>53.00</td>\n",
       "      <td>387500.0</td>\n",
       "    </tr>\n",
       "    <tr>\n",
       "      <th>838</th>\n",
       "      <td>Хмельницький</td>\n",
       "      <td>2</td>\n",
       "      <td>60.00</td>\n",
       "      <td>522500.0</td>\n",
       "    </tr>\n",
       "  </tbody>\n",
       "</table>\n",
       "</div>"
      ],
      "text/plain": [
       "            Місто  Кімнат  Загальна_площа       Ціна\n",
       "824  Хмельницький       2           80.00  1125000.0\n",
       "825  Хмельницький       1           37.00   387500.0\n",
       "826  Хмельницький       1           50.00   375000.0\n",
       "827  Хмельницький       1           43.00   337500.0\n",
       "828  Хмельницький       1           36.00   220000.0\n",
       "829  Хмельницький       1           42.00   264600.0\n",
       "830  Хмельницький       1           42.00   575000.0\n",
       "831  Хмельницький       3           72.00   925000.0\n",
       "832  Хмельницький       1           41.00   275000.0\n",
       "833  Хмельницький       1           35.58   212500.0\n",
       "834  Хмельницький       1           52.00   330000.0\n",
       "835  Хмельницький       1           41.00   325000.0\n",
       "836  Хмельницький       1           47.00   375000.0\n",
       "837  Хмельницький       2           53.00   387500.0\n",
       "838  Хмельницький       2           60.00   522500.0"
      ]
     },
     "execution_count": 15,
     "metadata": {},
     "output_type": "execute_result"
    }
   ],
   "source": [
    "df_data.tail(15)"
   ]
  },
  {
   "cell_type": "markdown",
   "id": "bdbcea83",
   "metadata": {},
   "source": [
    "3/ Відобразіть імена датафрейму"
   ]
  },
  {
   "cell_type": "code",
   "execution_count": 16,
   "id": "003d4d6e",
   "metadata": {},
   "outputs": [
    {
     "data": {
      "text/plain": [
       "Index(['Місто', 'Кімнат', 'Загальна_площа', 'Ціна'], dtype='object')"
      ]
     },
     "execution_count": 16,
     "metadata": {},
     "output_type": "execute_result"
    }
   ],
   "source": [
    "df_data.columns"
   ]
  },
  {
   "cell_type": "markdown",
   "id": "e3b99259",
   "metadata": {},
   "source": [
    "Побудуйте коробчату діаграму для візулізації розподілу цін в залежності від кількості кімнат"
   ]
  },
  {
   "cell_type": "code",
   "execution_count": 19,
   "id": "bf1d2b7b",
   "metadata": {},
   "outputs": [],
   "source": [
    "import seaborn as sns\n",
    "import matplotlib.pyplot as plt\n"
   ]
  },
  {
   "cell_type": "code",
   "execution_count": 22,
   "id": "bdabdf3e",
   "metadata": {},
   "outputs": [
    {
     "data": {
      "image/png": "[encoded data removed]",
      "text/plain": [
       "<Figure size 640x480 with 1 Axes>"
      ]
     },
     "metadata": {},
     "output_type": "display_data"
    }
   ],
   "source": [
    "sns.boxplot(x=\"Кімнат\", y=\"Загальна_площа\", data=df_data)\n",
    "plt.show()\n"
   ]
  },
  {
   "cell_type": "markdown",
   "id": "23b1ab51",
   "metadata": {},
   "source": [
    "Побудуйте графік розсіювання, який відображатиме залежність ціни від загальної площі\n"
   ]
  },
  {
   "cell_type": "code",
   "execution_count": 25,
   "id": "b0e4f965",
   "metadata": {},
   "outputs": [
    {
     "data": {
      "image/png": "[encoded data removed]",
      "text/plain": [
       "<Figure size 640x480 with 1 Axes>"
      ]
     },
     "metadata": {},
     "output_type": "display_data"
    }
   ],
   "source": [
    "sns.scatterplot(x=df_data['Загальна_площа'], y=df_data['Ціна'])\n",
    "\n",
    "plt.show()"
   ]
  }
 ],
 "metadata": {
  "kernelspec": {
   "display_name": ".venv",
   "language": "python",
   "name": "python3"
  },
  "language_info": {
   "codemirror_mode": {
    "name": "ipython",
    "version": 3
   },
   "file_extension": ".py",
   "mimetype": "text/x-python",
   "name": "python",
   "nbconvert_exporter": "python",
   "pygments_lexer": "ipython3",
   "version": "3.12.2"
  }
 },
 "nbformat": 4,
 "nbformat_minor": 5
}
