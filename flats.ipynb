{
 "cells": [
  {
   "cell_type": "code",
   "execution_count": 1,
   "id": "94377aa2",
   "metadata": {},
   "outputs": [],
   "source": [
    "import pandas as pd\n",
    "import numpy as np"
   ]
  },
  {
   "cell_type": "markdown",
   "id": "530e62af",
   "metadata": {},
   "source": [
    "1. Скільки змінних у наборі даних flats?"
   ]
  },
  {
   "cell_type": "markdown",
   "id": "b234f228",
   "metadata": {},
   "source": [
    "3. Чи всі з них дійсно є містами?"
   ]
  },
  {
   "cell_type": "code",
   "execution_count": 3,
   "id": "a12dea3d",
   "metadata": {},
   "outputs": [
    {
     "data": {
      "text/plain": [
       "<bound method NDFrame.head of             Місто  Кімнат Загальна_площа       Ціна\n",
       "0         Вінниця       3            120  1875000.0\n",
       "1         Вінниця       3             66   975000.0\n",
       "2         Вінниця       2             66  1375000.0\n",
       "3         Вінниця       2             44   637500.0\n",
       "4         Вінниця       3             63   835000.0\n",
       "..            ...     ...            ...        ...\n",
       "834  Хмельницький       1             52   330000.0\n",
       "835  Хмельницький       1             41   325000.0\n",
       "836  Хмельницький       1             47   375000.0\n",
       "837  Хмельницький       2             53   387500.0\n",
       "838  Хмельницький       2             60   522500.0\n",
       "\n",
       "[839 rows x 4 columns]>"
      ]
     },
     "execution_count": 3,
     "metadata": {},
     "output_type": "execute_result"
    }
   ],
   "source": [
    "path_file = 'flats.csv'\n",
    "df_data = pd.read_csv(path_file)\n",
    "\n",
    "df_data.head"
   ]
  },
  {
   "cell_type": "markdown",
   "id": "f6e8428f",
   "metadata": {},
   "source": [
    "1. Скільки змінних у наборі даних flats?"
   ]
  },
  {
   "cell_type": "code",
   "execution_count": 9,
   "id": "9a6da59d",
   "metadata": {},
   "outputs": [
    {
     "data": {
      "text/plain": [
       "Index(['Місто', 'Кімнат', 'Загальна_площа', 'Ціна'], dtype='object')"
      ]
     },
     "execution_count": 9,
     "metadata": {},
     "output_type": "execute_result"
    }
   ],
   "source": [
    "df_data.columns"
   ]
  },
  {
   "cell_type": "markdown",
   "id": "7ae210f8",
   "metadata": {},
   "source": [
    "2. Яка кількість міст у наборі даних flats? Підказка: мається на увазі кількість унікальних значень до очищення даних."
   ]
  },
  {
   "cell_type": "code",
   "execution_count": null,
   "id": "03e4ff01",
   "metadata": {},
   "outputs": [
    {
     "data": {
      "text/plain": [
       "array(['Вінниця', 'Дніпропетровськ', 'Запоріжжя', 'Івано-Франківськ',\n",
       "       'Києво-Святошинський', 'Київ', 'Львів', 'Миколаїв', 'Одеса',\n",
       "       'Рівне', 'Тернопіль', 'Харків', 'Хмельницький'], dtype=object)"
      ]
     },
     "execution_count": 15,
     "metadata": {},
     "output_type": "execute_result"
    }
   ],
   "source": [
    "unique_city = df_data['Місто'].unique()\n",
    "unique_city"
   ]
  },
  {
   "cell_type": "code",
   "execution_count": 16,
   "id": "526313ef",
   "metadata": {},
   "outputs": [
    {
     "name": "stdout",
     "output_type": "stream",
     "text": [
      "13\n"
     ]
    }
   ],
   "source": [
    "print(len(unique_city))"
   ]
  },
  {
   "cell_type": "code",
   "execution_count": 5,
   "id": "3fde2b9a",
   "metadata": {},
   "outputs": [
    {
     "data": {
      "text/plain": [
       "(839, 4)"
      ]
     },
     "execution_count": 5,
     "metadata": {},
     "output_type": "execute_result"
    }
   ],
   "source": [
    "df_data.shape"
   ]
  },
  {
   "cell_type": "markdown",
   "id": "ad40437d",
   "metadata": {},
   "source": [
    "4. Яка кількість трикімнатних квартир продається в місті Одеса?"
   ]
  },
  {
   "cell_type": "code",
   "execution_count": 6,
   "id": "defde3a5",
   "metadata": {},
   "outputs": [
    {
     "data": {
      "text/html": [
       "<div>\n",
       "<style scoped>\n",
       "    .dataframe tbody tr th:only-of-type {\n",
       "        vertical-align: middle;\n",
       "    }\n",
       "\n",
       "    .dataframe tbody tr th {\n",
       "        vertical-align: top;\n",
       "    }\n",
       "\n",
       "    .dataframe thead th {\n",
       "        text-align: right;\n",
       "    }\n",
       "</style>\n",
       "<table border=\"1\" class=\"dataframe\">\n",
       "  <thead>\n",
       "    <tr style=\"text-align: right;\">\n",
       "      <th></th>\n",
       "      <th>Місто</th>\n",
       "      <th>Кімнат</th>\n",
       "      <th>Загальна_площа</th>\n",
       "      <th>Ціна</th>\n",
       "    </tr>\n",
       "  </thead>\n",
       "  <tbody>\n",
       "    <tr>\n",
       "      <th>590</th>\n",
       "      <td>Одеса</td>\n",
       "      <td>3</td>\n",
       "      <td>68,2</td>\n",
       "      <td>1500000.0</td>\n",
       "    </tr>\n",
       "    <tr>\n",
       "      <th>591</th>\n",
       "      <td>Одеса</td>\n",
       "      <td>3</td>\n",
       "      <td>128</td>\n",
       "      <td>5750000.0</td>\n",
       "    </tr>\n",
       "    <tr>\n",
       "      <th>603</th>\n",
       "      <td>Одеса</td>\n",
       "      <td>3</td>\n",
       "      <td>130,6</td>\n",
       "      <td>2398750.0</td>\n",
       "    </tr>\n",
       "    <tr>\n",
       "      <th>607</th>\n",
       "      <td>Одеса</td>\n",
       "      <td>3</td>\n",
       "      <td>143</td>\n",
       "      <td>2875000.0</td>\n",
       "    </tr>\n",
       "    <tr>\n",
       "      <th>608</th>\n",
       "      <td>Одеса</td>\n",
       "      <td>3</td>\n",
       "      <td>125,5</td>\n",
       "      <td>47500.0</td>\n",
       "    </tr>\n",
       "    <tr>\n",
       "      <th>611</th>\n",
       "      <td>Одеса</td>\n",
       "      <td>3</td>\n",
       "      <td>139,1</td>\n",
       "      <td>43750.0</td>\n",
       "    </tr>\n",
       "    <tr>\n",
       "      <th>612</th>\n",
       "      <td>Одеса</td>\n",
       "      <td>3</td>\n",
       "      <td>123,7</td>\n",
       "      <td>41250.0</td>\n",
       "    </tr>\n",
       "    <tr>\n",
       "      <th>613</th>\n",
       "      <td>Одеса</td>\n",
       "      <td>3</td>\n",
       "      <td>124</td>\n",
       "      <td>52500.0</td>\n",
       "    </tr>\n",
       "    <tr>\n",
       "      <th>617</th>\n",
       "      <td>Одеса</td>\n",
       "      <td>3</td>\n",
       "      <td>123,7</td>\n",
       "      <td>41250.0</td>\n",
       "    </tr>\n",
       "    <tr>\n",
       "      <th>618</th>\n",
       "      <td>Одеса</td>\n",
       "      <td>3</td>\n",
       "      <td>78</td>\n",
       "      <td>1612500.0</td>\n",
       "    </tr>\n",
       "    <tr>\n",
       "      <th>624</th>\n",
       "      <td>Одеса</td>\n",
       "      <td>3</td>\n",
       "      <td>96</td>\n",
       "      <td>1460750.0</td>\n",
       "    </tr>\n",
       "  </tbody>\n",
       "</table>\n",
       "</div>"
      ],
      "text/plain": [
       "     Місто  Кімнат Загальна_площа       Ціна\n",
       "590  Одеса       3           68,2  1500000.0\n",
       "591  Одеса       3            128  5750000.0\n",
       "603  Одеса       3          130,6  2398750.0\n",
       "607  Одеса       3            143  2875000.0\n",
       "608  Одеса       3          125,5    47500.0\n",
       "611  Одеса       3          139,1    43750.0\n",
       "612  Одеса       3          123,7    41250.0\n",
       "613  Одеса       3            124    52500.0\n",
       "617  Одеса       3          123,7    41250.0\n",
       "618  Одеса       3             78  1612500.0\n",
       "624  Одеса       3             96  1460750.0"
      ]
     },
     "execution_count": 6,
     "metadata": {},
     "output_type": "execute_result"
    }
   ],
   "source": [
    "df_odesa = df_data[(df_data[\"Місто\"] == 'Одеса') & (df_data[\"Кімнат\"] == 3)]\n",
    "df_odesa "
   ]
  },
  {
   "cell_type": "code",
   "execution_count": 17,
   "id": "dec04fe2",
   "metadata": {},
   "outputs": [
    {
     "name": "stdout",
     "output_type": "stream",
     "text": [
      "11\n"
     ]
    }
   ],
   "source": [
    "print(len(df_odesa))"
   ]
  },
  {
   "cell_type": "markdown",
   "id": "e4c512b4",
   "metadata": {},
   "source": [
    "5. Яка медіана площі однокімнатної квартири в місті Львів? Підказка: використовуйте функцію median."
   ]
  },
  {
   "cell_type": "code",
   "execution_count": null,
   "id": "9101c0ff",
   "metadata": {},
   "outputs": [
    {
     "name": "stdout",
     "output_type": "stream",
     "text": [
      "Медіана площі однокімнатних квартир у Львові: 43.00 м²\n"
     ]
    }
   ],
   "source": [
    "df_data['Загальна_площа'] = df_data['Загальна_площа'].str.replace(',', '.').astype(float)\n",
    "\n",
    "df_lviv_1room = df_data[(df_data[\"Місто\"] == 'Львів') & (df_data[\"Кімнат\"] == 1)]\n",
    "\n",
    "median_area = df_lviv_1room['Загальна_площа'].median()\n",
    "\n",
    "print(f\"Медіана площі однокімнатних квартир у Львові: {median_area:.2f} м²\")"
   ]
  },
  {
   "cell_type": "markdown",
   "id": "39bc4849",
   "metadata": {},
   "source": [
    "Знайдіть кількість вимірів датафрейму flats\n",
    "Відобразіть перші шість рядків, перші п'ятнадцять рядків, останні шість рядків\n",
    "Відобразіть імена датафрейму\n",
    "Побудуйте коробчату діаграму для візулізації розподілу цін в залежності від кількості кімнат\n",
    "Побудуйте графік розсіювання, який відображатиме залежність ціни від загальної площі\n",
    "Побудуйте гістограму для оцінки розподілу ціни квартир"
   ]
  }
 ],
 "metadata": {
  "kernelspec": {
   "display_name": ".venv",
   "language": "python",
   "name": "python3"
  },
  "language_info": {
   "codemirror_mode": {
    "name": "ipython",
    "version": 3
   },
   "file_extension": ".py",
   "mimetype": "text/x-python",
   "name": "python",
   "nbconvert_exporter": "python",
   "pygments_lexer": "ipython3",
   "version": "3.12.2"
  }
 },
 "nbformat": 4,
 "nbformat_minor": 5
}
