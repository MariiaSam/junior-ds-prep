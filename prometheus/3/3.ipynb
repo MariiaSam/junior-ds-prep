{
 "cells": [
  {
   "cell_type": "code",
   "execution_count": 1,
   "id": "e567a96a",
   "metadata": {},
   "outputs": [],
   "source": [
    "\n",
    "import pandas as pd\n",
    "import numpy as np\n",
    "\n",
    "import matplotlib.pyplot as plt\n",
    "import seaborn as sns"
   ]
  },
  {
   "cell_type": "code",
   "execution_count": 6,
   "id": "a9e8b970",
   "metadata": {},
   "outputs": [],
   "source": [
    "path_file = './filmdeathcounts.csv'"
   ]
  },
  {
   "cell_type": "code",
   "execution_count": 7,
   "id": "020aa749",
   "metadata": {},
   "outputs": [
    {
     "data": {
      "text/plain": [
       "<bound method NDFrame.head of                      Film  Year  Body_Count MPAA_Rating  \\\n",
       "0    24 Hour Party People  2002           7           R   \n",
       "1           28 Days Later  2002          53           R   \n",
       "2          28 Weeks Later  2007         212           R   \n",
       "3        30 Days of Night  2007          67           R   \n",
       "4                     300  2007         600           R   \n",
       "..                    ...   ...         ...         ...   \n",
       "540              Zatoichi  2003          81           R   \n",
       "541                Zodiac  2007           3           R   \n",
       "542            Zombieland  2009         109           R   \n",
       "543             Zoolander  2001           4       PG-13   \n",
       "544                  Zulu  1964         140     Unrated   \n",
       "\n",
       "                            Genre                 Director  Length_Minutes  \\\n",
       "0    Biography|Comedy|Drama|Music     Michael Winterbottom             117   \n",
       "1          Horror|Sci-Fi|Thriller              Danny Boyle             113   \n",
       "2          Horror|Sci-Fi|Thriller  Juan Carlos Fresnadillo             100   \n",
       "3                 Horror|Thriller              David Slade             113   \n",
       "4      Action|Fantasy|History|War              Zack Snyder             117   \n",
       "..                            ...                      ...             ...   \n",
       "540           Action|Comedy|Crime           Takeshi Kitano             116   \n",
       "541  Crime|Drama|Mystery|Thriller            David Fincher             157   \n",
       "542                 Comedy|Horror          Ruben Fleischer              88   \n",
       "543                        Comedy              Ben Stiller              89   \n",
       "544             Drama|History|War              Cy Endfield             138   \n",
       "\n",
       "     IMDB_Rating  \n",
       "0            7.3  \n",
       "1            7.6  \n",
       "2            7.0  \n",
       "3            6.6  \n",
       "4            7.7  \n",
       "..           ...  \n",
       "540          7.6  \n",
       "541          7.7  \n",
       "542          7.7  \n",
       "543          6.5  \n",
       "544          7.8  \n",
       "\n",
       "[545 rows x 8 columns]>"
      ]
     },
     "execution_count": 7,
     "metadata": {},
     "output_type": "execute_result"
    }
   ],
   "source": [
    "df_data = pd.read_csv(path_file)\n",
    "df_data.head"
   ]
  }
 ],
 "metadata": {
  "kernelspec": {
   "display_name": ".venv",
   "language": "python",
   "name": "python3"
  },
  "language_info": {
   "codemirror_mode": {
    "name": "ipython",
    "version": 3
   },
   "file_extension": ".py",
   "mimetype": "text/x-python",
   "name": "python",
   "nbconvert_exporter": "python",
   "pygments_lexer": "ipython3",
   "version": "3.12.2"
  }
 },
 "nbformat": 4,
 "nbformat_minor": 5
}
