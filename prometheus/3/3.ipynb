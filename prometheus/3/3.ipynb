{
 "cells": [
  {
   "cell_type": "code",
   "execution_count": 1,
   "id": "e567a96a",
   "metadata": {},
   "outputs": [],
   "source": [
    "\n",
    "import pandas as pd\n",
    "import numpy as np\n",
    "\n",
    "import matplotlib.pyplot as plt\n",
    "import seaborn as sns"
   ]
  },
  {
   "cell_type": "code",
   "execution_count": 6,
   "id": "a9e8b970",
   "metadata": {},
   "outputs": [],
   "source": [
    "path_file = './filmdeathcounts.csv'"
   ]
  },
  {
   "cell_type": "code",
   "execution_count": 7,
   "id": "020aa749",
   "metadata": {},
   "outputs": [
    {
     "data": {
      "text/plain": [
       "<bound method NDFrame.head of                      Film  Year  Body_Count MPAA_Rating  \\\n",
       "0    24 Hour Party People  2002           7           R   \n",
       "1           28 Days Later  2002          53           R   \n",
       "2          28 Weeks Later  2007         212           R   \n",
       "3        30 Days of Night  2007          67           R   \n",
       "4                     300  2007         600           R   \n",
       "..                    ...   ...         ...         ...   \n",
       "540              Zatoichi  2003          81           R   \n",
       "541                Zodiac  2007           3           R   \n",
       "542            Zombieland  2009         109           R   \n",
       "543             Zoolander  2001           4       PG-13   \n",
       "544                  Zulu  1964         140     Unrated   \n",
       "\n",
       "                            Genre                 Director  Length_Minutes  \\\n",
       "0    Biography|Comedy|Drama|Music     Michael Winterbottom             117   \n",
       "1          Horror|Sci-Fi|Thriller              Danny Boyle             113   \n",
       "2          Horror|Sci-Fi|Thriller  Juan Carlos Fresnadillo             100   \n",
       "3                 Horror|Thriller              David Slade             113   \n",
       "4      Action|Fantasy|History|War              Zack Snyder             117   \n",
       "..                            ...                      ...             ...   \n",
       "540           Action|Comedy|Crime           Takeshi Kitano             116   \n",
       "541  Crime|Drama|Mystery|Thriller            David Fincher             157   \n",
       "542                 Comedy|Horror          Ruben Fleischer              88   \n",
       "543                        Comedy              Ben Stiller              89   \n",
       "544             Drama|History|War              Cy Endfield             138   \n",
       "\n",
       "     IMDB_Rating  \n",
       "0            7.3  \n",
       "1            7.6  \n",
       "2            7.0  \n",
       "3            6.6  \n",
       "4            7.7  \n",
       "..           ...  \n",
       "540          7.6  \n",
       "541          7.7  \n",
       "542          7.7  \n",
       "543          6.5  \n",
       "544          7.8  \n",
       "\n",
       "[545 rows x 8 columns]>"
      ]
     },
     "execution_count": 7,
     "metadata": {},
     "output_type": "execute_result"
    }
   ],
   "source": [
    "df_data = pd.read_csv(path_file)\n",
    "df_data.head"
   ]
  },
  {
   "cell_type": "code",
   "execution_count": null,
   "id": "09aa0424",
   "metadata": {},
   "outputs": [
    {
     "data": {
      "text/plain": [
       "Index(['Film', 'Year', 'Body_Count', 'MPAA_Rating', 'Genre', 'Director',\n",
       "       'Length_Minutes', 'IMDB_Rating'],\n",
       "      dtype='object')"
      ]
     },
     "execution_count": 8,
     "metadata": {},
     "output_type": "execute_result"
    }
   ],
   "source": [
    "df_data.columns"
   ]
  },
  {
   "cell_type": "code",
   "execution_count": 9,
   "id": "42089fc4",
   "metadata": {},
   "outputs": [
    {
     "data": {
      "text/plain": [
       "<bound method NDFrame.describe of                      Film  Year  Body_Count MPAA_Rating  \\\n",
       "0    24 Hour Party People  2002           7           R   \n",
       "1           28 Days Later  2002          53           R   \n",
       "2          28 Weeks Later  2007         212           R   \n",
       "3        30 Days of Night  2007          67           R   \n",
       "4                     300  2007         600           R   \n",
       "..                    ...   ...         ...         ...   \n",
       "540              Zatoichi  2003          81           R   \n",
       "541                Zodiac  2007           3           R   \n",
       "542            Zombieland  2009         109           R   \n",
       "543             Zoolander  2001           4       PG-13   \n",
       "544                  Zulu  1964         140     Unrated   \n",
       "\n",
       "                            Genre                 Director  Length_Minutes  \\\n",
       "0    Biography|Comedy|Drama|Music     Michael Winterbottom             117   \n",
       "1          Horror|Sci-Fi|Thriller              Danny Boyle             113   \n",
       "2          Horror|Sci-Fi|Thriller  Juan Carlos Fresnadillo             100   \n",
       "3                 Horror|Thriller              David Slade             113   \n",
       "4      Action|Fantasy|History|War              Zack Snyder             117   \n",
       "..                            ...                      ...             ...   \n",
       "540           Action|Comedy|Crime           Takeshi Kitano             116   \n",
       "541  Crime|Drama|Mystery|Thriller            David Fincher             157   \n",
       "542                 Comedy|Horror          Ruben Fleischer              88   \n",
       "543                        Comedy              Ben Stiller              89   \n",
       "544             Drama|History|War              Cy Endfield             138   \n",
       "\n",
       "     IMDB_Rating  \n",
       "0            7.3  \n",
       "1            7.6  \n",
       "2            7.0  \n",
       "3            6.6  \n",
       "4            7.7  \n",
       "..           ...  \n",
       "540          7.6  \n",
       "541          7.7  \n",
       "542          7.7  \n",
       "543          6.5  \n",
       "544          7.8  \n",
       "\n",
       "[545 rows x 8 columns]>"
      ]
     },
     "execution_count": 9,
     "metadata": {},
     "output_type": "execute_result"
    }
   ],
   "source": [
    "df_data.describe"
   ]
  },
  {
   "cell_type": "markdown",
   "id": "e7501bc7",
   "metadata": {},
   "source": [
    "# 1. Питання лабораторної: чи є нормальним розподіл IMDB рейтингу?"
   ]
  },
  {
   "cell_type": "code",
   "execution_count": 12,
   "id": "5d722176",
   "metadata": {},
   "outputs": [
    {
     "data": {
      "image/png": "[encoded data removed]",
      "text/plain": [
       "<Figure size 640x480 with 1 Axes>"
      ]
     },
     "metadata": {},
     "output_type": "display_data"
    }
   ],
   "source": [
    "import matplotlib.pyplot as plt\n",
    "\n",
    "x = df_data['IMDB_Rating']\n",
    "plt.hist(x, bins=5, color='skyblue', label='Розподіл даних', density=True)\n",
    "plt.title('IMDB рейтинг')\n",
    "plt.xlabel('Значення')\n",
    "plt.ylabel('Частота')\n",
    "plt.legend()\n",
    "plt.show()"
   ]
  },
  {
   "cell_type": "markdown",
   "id": "4d05d695",
   "metadata": {},
   "source": [
    "# 2. Для згенерованого IMDB (змінна 'imdb_simulation'), яка ймовірність отримати IMDB 4.0 або менше?"
   ]
  },
  {
   "cell_type": "code",
   "execution_count": 20,
   "id": "380a34c2",
   "metadata": {},
   "outputs": [
    {
     "data": {
      "text/plain": [
       "0      7.3\n",
       "1      7.6\n",
       "2      7.0\n",
       "3      6.6\n",
       "4      7.7\n",
       "      ... \n",
       "540    7.6\n",
       "541    7.7\n",
       "542    7.7\n",
       "543    6.5\n",
       "544    7.8\n",
       "Name: IMDB_Rating, Length: 545, dtype: float64"
      ]
     },
     "execution_count": 20,
     "metadata": {},
     "output_type": "execute_result"
    }
   ],
   "source": [
    "df_sim = df_data['IMDB_Rating']\n",
    "df_sim"
   ]
  },
  {
   "cell_type": "code",
   "execution_count": 21,
   "id": "da379eee",
   "metadata": {},
   "outputs": [],
   "source": [
    "mean = df_sim.mean()\n",
    "std = df_sim.std()"
   ]
  },
  {
   "cell_type": "code",
   "execution_count": 22,
   "id": "cb271dfa",
   "metadata": {},
   "outputs": [],
   "source": [
    "from scipy.stats import norm"
   ]
  },
  {
   "cell_type": "code",
   "execution_count": 23,
   "id": "8da2f0bc",
   "metadata": {},
   "outputs": [
    {
     "name": "stdout",
     "output_type": "stream",
     "text": [
      "Ймовірність: 0.0054\n"
     ]
    }
   ],
   "source": [
    "prob = norm.cdf(4.0, loc=mean, scale=std)\n",
    "print(f\"Ймовірність: {prob:.4f}\")"
   ]
  },
  {
   "cell_type": "markdown",
   "id": "34c3de57",
   "metadata": {},
   "source": [
    "# Якщо розподіл не нормальний:"
   ]
  },
  {
   "cell_type": "code",
   "execution_count": 24,
   "id": "88098c16",
   "metadata": {},
   "outputs": [
    {
     "name": "stdout",
     "output_type": "stream",
     "text": [
      "Емпірична ймовірність: 0.0202\n"
     ]
    }
   ],
   "source": [
    "prob_empirical = (df_sim <= 4.0).mean()\n",
    "print(f\"Емпірична ймовірність: {prob_empirical:.4f}\")\n"
   ]
  }
 ],
 "metadata": {
  "kernelspec": {
   "display_name": ".venv",
   "language": "python",
   "name": "python3"
  },
  "language_info": {
   "codemirror_mode": {
    "name": "ipython",
    "version": 3
   },
   "file_extension": ".py",
   "mimetype": "text/x-python",
   "name": "python",
   "nbconvert_exporter": "python",
   "pygments_lexer": "ipython3",
   "version": "3.12.2"
  }
 },
 "nbformat": 4,
 "nbformat_minor": 5
}
